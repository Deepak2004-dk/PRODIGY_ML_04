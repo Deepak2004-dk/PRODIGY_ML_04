{
  "nbformat": 4,
  "nbformat_minor": 0,
  "metadata": {
    "colab": {
      "provenance": [],
      "authorship_tag": "ABX9TyMBIl3DQ1nSaMHlqN/2E5TP",
      "include_colab_link": true
    },
    "kernelspec": {
      "name": "python3",
      "display_name": "Python 3"
    },
    "language_info": {
      "name": "python"
    }
  },
  "cells": [
    {
      "cell_type": "markdown",
      "metadata": {
        "id": "view-in-github",
        "colab_type": "text"
      },
      "source": [
        "<a href=\"https://colab.research.google.com/github/Deepak2004-dk/PRODIGY_ML_04/blob/main/MACHINE_LEARNING_TASK_04.ipynb\" target=\"_parent\"><img src=\"https://colab.research.google.com/assets/colab-badge.svg\" alt=\"Open In Colab\"/></a>"
      ]
    },
    {
      "cell_type": "code",
      "execution_count": 1,
      "metadata": {
        "colab": {
          "base_uri": "https://localhost:8080/"
        },
        "id": "HgfVYnfqXWQG",
        "outputId": "2aae3f43-2a73-4879-e8c2-c338e645f332"
      },
      "outputs": [
        {
          "output_type": "stream",
          "name": "stdout",
          "text": [
            "Downloading data from https://storage.googleapis.com/tensorflow/tf-keras-datasets/mnist.npz\n",
            "11490434/11490434 [==============================] - 0s 0us/step\n",
            "Epoch 1/10\n",
            "469/469 [==============================] - 59s 123ms/step - loss: 0.2204 - accuracy: 0.9362 - val_loss: 0.0751 - val_accuracy: 0.9766\n",
            "Epoch 2/10\n",
            "469/469 [==============================] - 42s 90ms/step - loss: 0.0594 - accuracy: 0.9820 - val_loss: 0.0430 - val_accuracy: 0.9869\n",
            "Epoch 3/10\n",
            "469/469 [==============================] - 42s 89ms/step - loss: 0.0411 - accuracy: 0.9875 - val_loss: 0.0338 - val_accuracy: 0.9893\n",
            "Epoch 4/10\n",
            "469/469 [==============================] - 45s 96ms/step - loss: 0.0329 - accuracy: 0.9892 - val_loss: 0.0453 - val_accuracy: 0.9857\n",
            "Epoch 5/10\n",
            "469/469 [==============================] - 42s 90ms/step - loss: 0.0261 - accuracy: 0.9915 - val_loss: 0.0359 - val_accuracy: 0.9892\n",
            "Epoch 6/10\n",
            "469/469 [==============================] - 42s 90ms/step - loss: 0.0218 - accuracy: 0.9931 - val_loss: 0.0356 - val_accuracy: 0.9887\n",
            "Epoch 7/10\n",
            "469/469 [==============================] - 44s 94ms/step - loss: 0.0178 - accuracy: 0.9942 - val_loss: 0.0314 - val_accuracy: 0.9908\n",
            "Epoch 8/10\n",
            "469/469 [==============================] - 43s 92ms/step - loss: 0.0149 - accuracy: 0.9952 - val_loss: 0.0317 - val_accuracy: 0.9901\n",
            "Epoch 9/10\n",
            "469/469 [==============================] - 42s 89ms/step - loss: 0.0117 - accuracy: 0.9963 - val_loss: 0.0397 - val_accuracy: 0.9890\n",
            "Epoch 10/10\n",
            "469/469 [==============================] - 42s 89ms/step - loss: 0.0099 - accuracy: 0.9972 - val_loss: 0.0318 - val_accuracy: 0.9914\n",
            "Test loss: 0.031758010387420654\n",
            "Test accuracy: 0.9914000034332275\n"
          ]
        }
      ],
      "source": [
        "import tensorflow as tf\n",
        "from tensorflow.keras.models import Sequential\n",
        "from tensorflow.keras.layers import Conv2D, MaxPooling2D, Flatten, Dense\n",
        "import cv2\n",
        "import numpy as np\n",
        "\n",
        "# Load the dataset\n",
        "(x_train, y_train), (x_test, y_test) = tf.keras.datasets.mnist.load_data()\n",
        "\n",
        "# Preprocess the data\n",
        "x_train = x_train.reshape(-1, 28, 28, 1)\n",
        "x_test = x_test.reshape(-1, 28, 28, 1)\n",
        "x_train = x_train.astype('float32') / 255\n",
        "x_test = x_test.astype('float32') / 255\n",
        "y_train = tf.keras.utils.to_categorical(y_train, 10)\n",
        "y_test = tf.keras.utils.to_categorical(y_test, 10)\n",
        "\n",
        "# Define the model architecture\n",
        "model = Sequential()\n",
        "model.add(Conv2D(32, kernel_size=(3, 3), activation='relu', input_shape=(28, 28, 1)))\n",
        "model.add(MaxPooling2D(pool_size=(2, 2)))\n",
        "model.add(Conv2D(64, kernel_size=(3, 3), activation='relu'))\n",
        "model.add(MaxPooling2D(pool_size=(2, 2)))\n",
        "model.add(Flatten())\n",
        "model.add(Dense(64, activation='relu'))\n",
        "model.add(Dense(10, activation='softmax'))\n",
        "\n",
        "# Compile the model\n",
        "model.compile(loss=tf.keras.losses.categorical_crossentropy,\n",
        "              optimizer=tf.keras.optimizers.Adam(),\n",
        "              metrics=['accuracy'])\n",
        "\n",
        "# Train the model\n",
        "model.fit(x_train, y_train,\n",
        "          batch_size=128,\n",
        "          epochs=10,\n",
        "          verbose=1,\n",
        "          validation_data=(x_test, y_test))\n",
        "\n",
        "# Test the model\n",
        "score = model.evaluate(x_test, y_test, verbose=0)\n",
        "print('Test loss:', score[0])\n",
        "print('Test accuracy:', score[1])\n",
        "\n",
        "# Real-time testing using a webcam\n",
        "def real_time_test():\n",
        "    cap = cv2.VideoCapture(0)\n",
        "    while True:\n",
        "        ret, frame = cap.read()\n",
        "        if not ret:\n",
        "            break\n",
        "        frame = cv2.resize(frame, (28, 28))\n",
        "        frame = cv2.cvtColor(frame, cv2.COLOR_BGR2GRAY)\n",
        "        frame = np.expand_dims(frame, axis=-1)\n",
        "        frame = frame.astype('float32') / 255\n",
        "        frame = np.expand_dims(frame, axis=0)\n",
        "        prediction = model.predict(frame)\n",
        "        predicted_class = np.argmax(prediction)\n",
        "        cv2.putText(frame, str(predicted_class), (10, 30), cv2.FONT_HERSHEY_SIMPLEX, 1, (0, 255, 0), 2)\n",
        "        cv2.imshow('Hand Gesture Recognition', frame)\n",
        "        if cv2.waitKey(1) & 0xFF == ord('q'):\n",
        "            break\n",
        "    cap.release()\n",
        "    cv2.destroyAllWindows()\n",
        "\n",
        "real_time_test()"
      ]
    }
  ]
}